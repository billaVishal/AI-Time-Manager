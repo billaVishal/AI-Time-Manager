{
  "nbformat": 4,
  "nbformat_minor": 0,
  "metadata": {
    "colab": {
      "name": "gdsc.ipynb",
      "provenance": [],
      "toc_visible": true
    },
    "kernelspec": {
      "name": "python3",
      "display_name": "Python 3"
    },
    "language_info": {
      "name": "python"
    }
  },
  "cells": [
    {
      "cell_type": "markdown",
      "source": [
        "### **Time Manager**\n",
        "\n",
        "\n",
        "\n",
        "\n",
        "\n",
        "I am proposing a time management app which will arrange the series of events and manage event according to the priority of the event. For example a student needs to study 5 subjects and have important family fucntion coming up then this ML algorithm can take in inputs of the task prioritize them and generate an effective time tables to achive goals. Also this will help save time in bigger firms which takes a lot of time to create a timeline for management of projects and functions.\n",
        "\n",
        "We will be using various ml algorithms to gain the results:\n",
        "\n",
        "* Enabled speech recognition using API tokens as an additional option to get data.\n",
        "*   Using NLP to extract important keywords and task from the given data\n",
        "*   Priority assignment using ml algorithm using clustering\n",
        "*   generating a time table using a deep learnign model.\n",
        "\n",
        "\n",
        "\n",
        "\n"
      ],
      "metadata": {
        "id": "oHnZTjNa4zWq"
      }
    },
    {
      "cell_type": "markdown",
      "source": [
        "# Importing Modules\n"
      ],
      "metadata": {
        "id": "pOElvW0lDfFh"
      }
    },
    {
      "cell_type": "markdown",
      "source": [
        "1. Speech_recognition= pip install SpeechRecognition\n",
        "2. PyAudio= pip install PyAudio\n",
        "3.Spacy= pip3 install spacy\n",
        "4. pytext rank= pip3 install pytextrank\n",
        "\n",
        "\n",
        "\n",
        "\n"
      ],
      "metadata": {
        "id": "y9plAZOIEM-o"
      }
    },
    {
      "cell_type": "code",
      "source": [
        "!pip install speechRecognition\n",
        "!apt install libasound2-dev portaudio19-dev libportaudio2 libportaudiocpp0 ffmpeg\n",
        "!pip install PyAudio\n",
        "!pip install scipy"
      ],
      "metadata": {
        "id": "BJWkb3BJEMok"
      },
      "execution_count": null,
      "outputs": []
    },
    {
      "cell_type": "code",
      "source": [
        "!pip3 install spacy\n",
        "!pip3 install pytextrank"
      ],
      "metadata": {
        "id": "CG9UYRcLNDBv"
      },
      "execution_count": null,
      "outputs": []
    },
    {
      "cell_type": "code",
      "source": [
        "import numpy as np\n",
        "import matplotlib.pyplot as plt\n",
        "import speech_recognition as sr\n",
        "from scipy.io.wavfile import write"
      ],
      "metadata": {
        "id": "OfcpT9kBDlm-"
      },
      "execution_count": 23,
      "outputs": []
    },
    {
      "cell_type": "code",
      "source": [
        "import spacy\n",
        "from collections import Counter\n",
        "from string import punctuation\n",
        "import pytextrank"
      ],
      "metadata": {
        "id": "O7Dtf7oGNdCJ"
      },
      "execution_count": null,
      "outputs": []
    },
    {
      "cell_type": "markdown",
      "source": [
        "# Speech Recognition\n"
      ],
      "metadata": {
        "id": "S0pMD-N5C76q"
      }
    },
    {
      "cell_type": "markdown",
      "source": [
        "* We are using SpeechRecognition module to record the speech in python\n",
        "* Used Google API token to realized speech spoken and store it \n",
        "\n"
      ],
      "metadata": {
        "id": "73PcBF-OGBQx"
      }
    },
    {
      "cell_type": "code",
      "source": [
        "recording=sr.Recognizer()"
      ],
      "metadata": {
        "id": "v_HRT9dkD2-K"
      },
      "execution_count": 24,
      "outputs": []
    },
    {
      "cell_type": "markdown",
      "source": [
        "Recording Device is required for generating an input, which is available on any device ... can not be used on colab...can use an audio as substitute."
      ],
      "metadata": {
        "id": "jtD8SHLrIO7v"
      }
    },
    {
      "cell_type": "code",
      "source": [
        "with sr.Microphone() as source: \n",
        "   recording.adjust_for_ambient_noise(source)\n",
        "   print(\"Please Say something:\")\n",
        "   audio = recording.listen(source)\n"
      ],
      "metadata": {
        "id": "Oawg7Y9EEzyj"
      },
      "execution_count": null,
      "outputs": []
    },
    {
      "cell_type": "code",
      "source": [
        "try:\n",
        "  record=recording.recognize_google(audio)\n",
        "  print(\"You said:\"+record)\n",
        "except Exception as e:\n",
        "  print(e)"
      ],
      "metadata": {
        "id": "c4qPNrnwFQcl"
      },
      "execution_count": null,
      "outputs": []
    },
    {
      "cell_type": "markdown",
      "source": [
        "# Important Event extraction\n",
        "We will be extracting all the important events as keywords using nlp."
      ],
      "metadata": {
        "id": "suGKI6LpLrVj"
      }
    },
    {
      "cell_type": "markdown",
      "source": [
        "* A word map is generated which is used to generate link between the words if they apprear with each other frequently and a link in generated in between them.\n",
        "* Page rank algorithm is used to find the top words and extract them.\n"
      ],
      "metadata": {
        "id": "Tal_fgHVOVmI"
      }
    },
    {
      "cell_type": "code",
      "source": [
        "nlp=spacy.load(\"en_core_web_sm\")\n",
        "nlp.add_pipe(\"textrank\")\n",
        "doc=nlp(record)\n"
      ],
      "metadata": {
        "id": "V5HC-YsXMjOQ"
      },
      "execution_count": null,
      "outputs": []
    },
    {
      "cell_type": "code",
      "source": [
        "with open(\"phrases.txt\",'w+') as fl:\n",
        "  for phrase in doc._.phrases:\n",
        "    fl.write(phrase+'\\n')\n",
        "    print(phrase)\n"
      ],
      "metadata": {
        "id": "boB6CCjeOHI4"
      },
      "execution_count": null,
      "outputs": []
    },
    {
      "cell_type": "markdown",
      "source": [
        "# Prioritisation \n",
        "This is the heart of program before identifying the time task and event to be done is important before identifying a time slot for it."
      ],
      "metadata": {
        "id": "eq-dvdDpQHqd"
      }
    },
    {
      "cell_type": "markdown",
      "source": [
        "data driven task prioritization is really hard to implement, but we can do this by following some simple steps\n",
        "\n",
        "\n",
        "*   Identifying the value of a task (and reach incase of firms )\n",
        "*   Efforts and confidence in acheving the task\n",
        "*   Scaling according to the distinctions generated\n",
        "\n",
        "\n",
        "> (reach X value X confidence)/effort=Score\n",
        "\n",
        "\n",
        "\n"
      ],
      "metadata": {
        "id": "WT-HBJ4hrcGk"
      }
    },
    {
      "cell_type": "markdown",
      "source": [
        "We will then alot time to each of these task related to the score where each will be given time according to score where higher scores are given more time."
      ],
      "metadata": {
        "id": "fD2yE5ELttl0"
      }
    },
    {
      "cell_type": "markdown",
      "source": [
        "# Refrences\n",
        "https://tutorialspoint.com/artificial_intelligence_with_python/artificial_intelligence_with_python_speech_recognition.htm\n",
        "\n",
        "https://www.analyticsvidhya.com/blog/2022/03/keyword-extraction-methods-from-documents-in-nlp/\n",
        "\n",
        "https://outlierai.medium.com/data-driven-task-prioritization-11b2a0c7afd"
      ],
      "metadata": {
        "id": "ZNC6Q3omuR9Q"
      }
    }
  ]
}